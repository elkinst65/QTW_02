{
 "cells": [
  {
   "cell_type": "markdown",
   "metadata": {},
   "source": [
    "# MSDS 7330 - Case Study One: Using Multiple Imputation\n",
    "\n",
    "### Investigators\n",
    "- [Matt Baldree](mailto:mbaldree@smu.edu?subject=lab2)\n",
    "- [Ben Brock](bbrock@smu.edu?subject=lab2)\n",
    "- [Tom Elkins](telkins@smu.edu?subject=lab2)\n",
    "- [Austin Kelly](ajkelly@smu.edu?subject=lab2)\n",
    "\n",
    "\n",
    "<div style='margin-left:10%;margin-right:10%;margin-top:15px;background-color:#d3d3d3;padding:5px;'>\n",
    "    <h3>Instructions</h3>\n",
    "    <p>Carry out the following steps for Case Study One: Using Multiple Imputation.</p>\n",
    "     <p>Steps:</p>\n",
    "    <ol>\n",
    "        <li>Use PROC MI to discover the missing values patterns and to decide what MI options to use. (Assume no need for transformations.)</li>\n",
    "        <li>Use PROC MI to create multiple imputed data sets.</li>\n",
    "        <li>Use PROC REG to analzye the multiple data sets while outputting information to be used in MIANALYZE.</li>\n",
    "        <li>Use PROC MIANALYZE to summarize the imputed analyses.</li>\n",
    "        <li>Compare these results to the listwise deletion results.</li>\n",
    "    </ol> \n",
    "    <p>Report Sections:</p>\n",
    "    <ol>\n",
    "        <li>[Introduction](#introduction) <b>(5 points)</b></li>\n",
    "        <li>[Background](#background) <b>(10 points)</b></li>\n",
    "        <li>[Methods](#methods) <b>(30 points)</b></li>\n",
    "        <li>[Results](#results) <b>(30 points)</b></li>\n",
    "        <li>[Conclusion](#conclusion) <b>(5 points)</b></li>\n",
    "        <li>[Bibliography and Citation](#biblio) <b>(5 points)</b></li>\n",
    "        <li>[Code](#code) <b>(5 points)</b></li>\n",
    "    </ol>\n",
    "     <p>Other Grading Criterium:</p>\n",
    "    <ol>\n",
    "        <li>Grammar and Organization <b>(10 points)</b></li>\n",
    "    </ol>\n",
    "</div>"
   ]
  },
  {
   "cell_type": "markdown",
   "metadata": {},
   "source": [
    "<a id='introduction'></a>\n",
    "## 1 - Introductions\n",
    "<div style='margin-left:10%;margin-right:10%;margin-top:15px;background-color:#d3d3d3;padding:10px;'>\n",
    "<h3>Introductions (<b>5 points total</b>)</h3>\n",
    "</div>"
   ]
  },
  {
   "cell_type": "markdown",
   "metadata": {},
   "source": [
    "### Predicting Miles per Gallon from Engine Type, Cylinders, Size, Weight, Horsepower, and Acceleration.\n",
    "\n",
    "Miles per gallon is a very important attribute when new car owners or seasoned car owners plan to purchase a new vehicle.  The “CARMPG” data set contains data for 38 cars as measured in 2005.  In today’s global economy, car owners can purchase various domestic or foreign car models that are fuel-efficient, environment friendly and easy to maintain. \n",
    "\n",
    "\n",
    "In this exercise, we will predict the miles per gallon (mpg) of the vehicle based on the following attributes: Engine Type, Cylinders, Size, Horsepower, Weight and Acceleration.\n",
    "\n",
    "\n",
    "Objective of Case Study 2\n",
    "- Use PROC MI to discover the missing values patterns and to decide what \n",
    "\tMI options to use. (Assume no tranformations.)\n",
    "- Use PROC MI to create multiple imputed data sets.\n",
    "- Use PROC REG to analyze the multiple data sets while outputting information\n",
    "\tto be used in MIANALYZE.\n",
    "- Use PROC MIANALYZE to summarize the imputed analyses.\n",
    "- Compare these results to the listwise deltion results.\n",
    "\n",
    "\n",
    "#### NOTE: Based on the objective of this case study, our team decided to use the SAS programming language to solve the problem.\n"
   ]
  },
  {
   "cell_type": "markdown",
   "metadata": {},
   "source": [
    "<a id=\"background\"></a>\n",
    "## 2 - Background\n",
    "\n",
    "<div style='margin-left:10%;margin-right:10%;margin-top:15px;background-color:#d3d3d3;padding:10px;'>\n",
    "<h3>Background (<b>10 points total</b>)</h3>\n",
    "</div>"
   ]
  },
  {
   "cell_type": "markdown",
   "metadata": {},
   "source": [
    "## Background: Brief Background of Data Set and Multiple Imputation\n",
    "\n",
    "### Brief Background of the \"CARMPG\" Data Set\n",
    "The response variable is mpg, there is only one categorical variables which is the variable Cylinder, and the continuous variables are Size, Horsepower (HP), Weight and Acceleration (ACCEL).  The data set consists of a sample of 38 observations based on different aspects of car attributes (mpg, Engine Type, Cylinders, Size, Horsepower, Weight, and Acceleration).  The objective of this exercise is to examine the relationship between each of these predictor variables and the response variable of mpg in hopes that a customer will be able to identify important relationships and address specific mpg factors when purchasing a vehicle. The ultimate goal is to fit a model using some or all of these variables to predict mpg. \n",
    "\n",
    "\n",
    "### Brief Background of Multiple Imputation (MI)\n",
    "The challenge of analyzing any data set by a data analyst or data scientist is how to solve the problem of data sets that may be missing some values.  From our studies in the class, there are many ways to address the problem of missing data but what is the best way to handle this problem [1].  The common types of missing data are: (1) MCAR (Missing completely at random), (2) MAR (Missing at Random), (3) MCAR (Missing Completely at Random), (4) MAR (Missing at Random), and (5) MNAR (Missing Not at Random).  \n",
    "\n",
    "There MSDS Quantifying the World lecturer stated that there are two approaches to use when the data are missing from the data set: (1) Fill in the blanks based on other variables which are highly correlated with the missing values, or (2) use the incomplete data set, omitting records that contain the missing values [2].   \n",
    "\n",
    "For this case study, we have been challenged to use the multiple imputation procedures discussed in our class lectures to resolve the missing values in the data set [3].  The \"Multiple Imputation\" highlights are:\n",
    "\n",
    "- Missing values are replaced by values caluculated via existing values from other variables,\n",
    "- Newly generated values stand in for missing values,\n",
    "- Imputed values are drawn from distributuions that reflect specific uncertainties about the existing values,\n",
    "- Multiple data sets are created, each containing a different set of imputes,\n",
    "- standard techniques are then used to analyze each data set, and\n",
    "- results are combined into the overall analysis [3].\n",
    "\n",
    "\n",
    "The authors or investigators will use the SAS PROC MI procedure to determine the missing values in the data set [3].   The highlights of the SAS MI procedure are [3]:\n",
    "- (1) Create the Data Sets,\n",
    "- (2) Analyze the Imputed Data Sets\n",
    "- (3) Combine Analysis Results \n",
    "\n",
    "\n",
    "As we stated earlier, our ultimate goal is to fit the model and predict the value the response variable \"mpg\".  Again, the objective of the Case Study 2 are:\n",
    "- Analyze this data set using multiple imputation.\n",
    "- Use PROC MI to discover the missing values patterns and to decide what \n",
    "\tMI options to use. (Assume no tranformations.)\n",
    "- Use PROC MI to create multiple imputed data sets.\n",
    "- Use PROC REG to analyze the multiple data sets while outputting information\n",
    "\tto be used in MIANALYZE.\n",
    "- Use PROC MIANALYZE to summarize the imputed analyses.\n",
    "- Compare these results to the listwise deltion results.\n",
    "\n"
   ]
  },
  {
   "cell_type": "markdown",
   "metadata": {},
   "source": [
    "#### Field Definitions\n",
    "Variables used in the CARMPG data set. \n",
    "\n",
    "|Column|Data Type|Value Range|Description|Categorical/Continuous Variable|\n",
    "|:-----|:--------|:----------|:----------|:-----:|\n",
    "|ENG_TYPE|Integer|0-1|The type of engine in the vehicle.|Categorical|\n",
    "|CYLINDERS|Integer|4-8| The number of cylinders in the vehicle.|Continuous|\n",
    "|SIZE|Integer|>89| Engine displacement (larger number = bigger engine). |Continuous|\n",
    "|HP|Integer|>65| Engine horsepower. Horsepower is measured in rpm (revolution per minute) and is treated as a continuous variable.|Continuous|\n",
    "|WEIGHT|Integer|>0| Car weight. The car weight in kilo-pounds of how much the car weighs. Weight is considered to be a continuous variable.   |Continuous|\n",
    "|ACCEL|Integer|>0|Acceleration, is representative of how fast the car can increase speed to 60 mph starting when the car is not in motion (0 mpg). This variable is considered to be a continuous variable.|Continuous|\n",
    "|MPG|Integer|>0|The response variable is mpg. |RESPONSE VARIABLE|\n"
   ]
  },
  {
   "cell_type": "markdown",
   "metadata": {},
   "source": [
    "<a id=\"methods\"></a>\n",
    "## 3 - Methods\n",
    "\n",
    "<div style='margin-left:10%;margin-right:10%;margin-top:15px;background-color:#d3d3d3;padding:10px;'>\n",
    "<h3>Methods (<b>30 points total</b>)</h3>"
   ]
  },
  {
   "cell_type": "markdown",
   "metadata": {},
   "source": [
    "Methods"
   ]
  },
  {
   "cell_type": "markdown",
   "metadata": {},
   "source": [
    "<a id=\"results\"></a>\n",
    "## 4 - Results\n",
    "\n",
    "<div style='margin-left:10%;margin-right:10%;margin-top:15px;background-color:#d3d3d3;padding:10px;'>\n",
    "<h3>Results (<b>30 points total</b>)</h3>"
   ]
  },
  {
   "cell_type": "markdown",
   "metadata": {},
   "source": [
    "![ANOVA with No Imputation](imgs/anova_initial.png \"ANOVA with No Imputation\")\n",
    "<p style='text-align: center;'>\n",
    "Figure ?: ANOVA Table with No Imputation\n",
    "</p>"
   ]
  },
  {
   "cell_type": "markdown",
   "metadata": {},
   "source": [
    "![Fit with No Imputation](imgs/fit_initial.png \"Fit with No Imputation\")\n",
    "<p style='text-align: center;'>\n",
    "Figure ?: Fit with No Imputation\n",
    "</p>"
   ]
  },
  {
   "cell_type": "markdown",
   "metadata": {},
   "source": [
    "![Residual with No Imputation](imgs/residuals_initial.png \"Residual with No Imputation\")\n",
    "<p style='text-align: center;'>\n",
    "Figure ?: Residual with No Imputation\n",
    "</p>"
   ]
  },
  {
   "cell_type": "markdown",
   "metadata": {},
   "source": [
    "![Parameters Initial](imgs/parameters_initial.png \"Parameters with No Imputation\")\n",
    "<p style='text-align: center;'>\n",
    "Figure ?: Parameters with No Imputation\n",
    "</p>"
   ]
  },
  {
   "cell_type": "markdown",
   "metadata": {},
   "source": [
    "![ANOVA Imputation Iteration Five](imgs/anova_im5.png \"ANOVA Table with Imputation Iteration Five\")\n",
    "<p style='text-align: center;'>\n",
    "Figure ?: ANOVA Table with Imputation Iteration Five\n",
    "</p>"
   ]
  },
  {
   "cell_type": "markdown",
   "metadata": {},
   "source": [
    "![Fit with Imputation](imgs/fit_combined.png \"Fit with Imputation\")\n",
    "<p style='text-align: center;'>\n",
    "Figure ?: Fit with Imputation\n",
    "</p>"
   ]
  },
  {
   "cell_type": "markdown",
   "metadata": {},
   "source": [
    "![Residual with Imputation](imgs/residuals_combined.png \"Residual with Imputation\")\n",
    "<p style='text-align: center;'>\n",
    "Figure ?: Residual with Imputation\n",
    "</p>"
   ]
  },
  {
   "cell_type": "markdown",
   "metadata": {},
   "source": [
    "![Parameters Combined](imgs/parameters_combined.png \"Parameters with Imputation\")\n",
    "<p style='text-align: center;'>\n",
    "Figure ?: Parameters with Imputation\n",
    "</p>"
   ]
  },
  {
   "cell_type": "markdown",
   "metadata": {},
   "source": [
    "|Variable    |Orig Estimate|Orig Std Error|Combined Estimate|Combined Std Error|Diff Estimate|Diff Std Error|\n",
    "|:-----------|------------:|-------------:|----------------:|-----------------:|------------:|-------------:|\n",
    "|intercept   | 70.148      |8.038         |69.543           |4.676             |-0.605       |-3.362        |\n",
    "|cylinders   |-3.334       |1.561         |-2.892           |0.767             | 0.442       |-0.794        |\n",
    "|size        | 0.0228      |0.032         | 0.031           |0.0217            | 0.008       |-0.010        |\n",
    "|horsepower  |-0.195       |0.081         |-0.159           |0.0461            | 0.036       |-.0349        |\n",
    "|weight      |-0.306       |5.133         |-3.215           |3.740             |-2.909       |-1.393        |\n",
    "|acceleration|-0.782       |0.583         |-0.722           |0.410             | 0.060       |-0.173        |\n",
    "|engine type | 6.599       |3.590         | 5.855           |1.580             |-0.744       |-2.010        |\n",
    "\n",
    "<p style='text-align: center;'>\n",
    "Table ?: Parameters Comparison\n",
    "</p>"
   ]
  },
  {
   "cell_type": "markdown",
   "metadata": {},
   "source": [
    "<a id=\"conclusion\"></a>\n",
    "## 5 - Conclusion\n",
    "\n",
    "<div style='margin-left:10%;margin-right:10%;margin-top:15px;background-color:#d3d3d3;padding:10px;'>\n",
    "<h3>Conclusion (<b>5 points total</b>)</h3>"
   ]
  },
  {
   "cell_type": "markdown",
   "metadata": {},
   "source": [
    "Conclusion"
   ]
  },
  {
   "cell_type": "markdown",
   "metadata": {},
   "source": [
    "<a id=\"biblio\"></a>\n",
    "## 6 - Bibliography and Citation\n",
    "\n",
    "<div style='margin-left:10%;margin-right:10%;margin-top:15px;background-color:#d3d3d3;padding:10px;'>\n",
    "<h3>Bibliography and Citation (<b>5 points total</b>)</h3>"
   ]
  },
  {
   "cell_type": "markdown",
   "metadata": {},
   "source": [
    "- [1], 1.3 The Problem: Missing Values in Data Sets, MSDS 7333 Quantifying the World\n",
    "\n",
    "- [2], 1.4 Challenges to Missing Data, MSDS 7333 Quantifying the World\n",
    "\n",
    "- [3], 1.7 Multiple Imputation, MSDS 7333 Quantifying the World"
   ]
  },
  {
   "cell_type": "markdown",
   "metadata": {},
   "source": [
    "<a id=\"code\"></a>\n",
    "## 6 - Code\n",
    "\n",
    "<div style='margin-left:10%;margin-right:10%;margin-top:15px;background-color:#d3d3d3;padding:10px;'>\n",
    "<h3>Code</h3>"
   ]
  },
  {
   "cell_type": "markdown",
   "metadata": {
    "collapsed": true
   },
   "source": [
    "\n",
    "```\n",
    "/*\n",
    "MSDS7333-401: Quantifying the World \n",
    "\n",
    "Case Study 2\n",
    "- Use PROC MI to discover the missing values patterns and to decide what MI options to use. (Assume no tranformations.)\n",
    "- Use PROC MI to create multiple imputed data sets.\n",
    "- Use PROC REG to analyze the multiple data sets while outputting information to be used in MIANALYZE.\n",
    "- Use PROC MIANALYZE to summarize the imputed analyses.\n",
    "- Compare these results to the listwise deltion results.\n",
    "*/\n",
    "\n",
    "* load dataset;\n",
    "data cars;\n",
    "    infile \"e:\\qtw_02\\carmpg_2_2_2_2.csv\" firstobs=2 delimiter=',';\n",
    "    input auto :$23. mpg cylinders size hp weight accel engtype;\n",
    "run;\n",
    "\n",
    "* print out entries;\n",
    "title 'MPG Dataset';\n",
    "proc print data=cars;\n",
    "run;\n",
    "\n",
    "* contents of dataset;\n",
    "title 'MPG Dataset Contents';\n",
    "proc datasets;\n",
    "   contents data=_all_;\n",
    "run;\n",
    "\n",
    "* what data is missing from dataset?;\n",
    "* use PROC REG with listwise deletion;\n",
    "title 'Predicting MPG (initial)';\n",
    "proc reg data=cars;\n",
    "    model mpg = cylinders size hp weight;\n",
    "run;\n",
    "quit;\n",
    "\n",
    "* is the missing data monotone or non-monotone?;\n",
    "* the data is non-monotone;\n",
    "title 'MI Pattern';\n",
    "ods select misspattern;\n",
    "proc mi data=cars nimpute=0;\n",
    "    var mpg cylinders size hp weight;\n",
    "run;\n",
    "\n",
    "* create mi data using default MCMC for non-monotone;\n",
    "title 'MI with MCMC';\n",
    "proc mi data=cars out=miout seed=35399 nimpute=5;\n",
    "    var mpg cylinders size hp weight;\n",
    "run;\n",
    "\n",
    "* run reg with mi data;\n",
    "title 'Predicting MPG with MI (final)';\n",
    "proc reg data=miout outest=outreg covout;\n",
    "    model mpg = cylinders size hp weight;\n",
    "    by _Imputation_;\n",
    "run;\n",
    "\n",
    "* combine results;\n",
    "title 'Predicting MPG (combined)';\n",
    "proc mianalyze data=outreg;\n",
    "    modeleffects Intercept cylinders size hp weight;\n",
    "run;\n",
    "```\n"
   ]
  }
 ],
 "metadata": {
  "anaconda-cloud": {},
  "kernelspec": {
   "display_name": "Python 3",
   "language": "python",
   "name": "python3"
  },
  "language_info": {
   "codemirror_mode": {
    "name": "ipython",
    "version": 3
   },
   "file_extension": ".py",
   "mimetype": "text/x-python",
   "name": "python",
   "nbconvert_exporter": "python",
   "pygments_lexer": "ipython3",
   "version": "3.6.0"
  },
  "nbpresent": {
   "slides": {},
   "themes": {
    "default": "cb59102b-739b-46ff-bf8b-c9d58641059b",
    "theme": {
     "8100c8f4-ae13-4c61-98d1-f3588e841503": {
      "id": "8100c8f4-ae13-4c61-98d1-f3588e841503",
      "palette": {
       "19cc588f-0593-49c9-9f4b-e4d7cc113b1c": {
        "id": "19cc588f-0593-49c9-9f4b-e4d7cc113b1c",
        "rgb": [
         252,
         252,
         252
        ]
       },
       "31af15d2-7e15-44c5-ab5e-e04b16a89eff": {
        "id": "31af15d2-7e15-44c5-ab5e-e04b16a89eff",
        "rgb": [
         68,
         68,
         68
        ]
       },
       "50f92c45-a630-455b-aec3-788680ec7410": {
        "id": "50f92c45-a630-455b-aec3-788680ec7410",
        "rgb": [
         155,
         177,
         192
        ]
       },
       "c5cc3653-2ee1-402a-aba2-7caae1da4f6c": {
        "id": "c5cc3653-2ee1-402a-aba2-7caae1da4f6c",
        "rgb": [
         43,
         126,
         184
        ]
       },
       "efa7f048-9acb-414c-8b04-a26811511a21": {
        "id": "efa7f048-9acb-414c-8b04-a26811511a21",
        "rgb": [
         25.118061674008803,
         73.60176211453744,
         107.4819383259912
        ]
       }
      },
      "rules": {
       "blockquote": {
        "color": "50f92c45-a630-455b-aec3-788680ec7410"
       },
       "code": {
        "font-family": "Anonymous Pro"
       },
       "h1": {
        "color": "c5cc3653-2ee1-402a-aba2-7caae1da4f6c",
        "font-family": "Lato",
        "font-size": 8
       },
       "h2": {
        "color": "c5cc3653-2ee1-402a-aba2-7caae1da4f6c",
        "font-family": "Lato",
        "font-size": 6
       },
       "h3": {
        "color": "50f92c45-a630-455b-aec3-788680ec7410",
        "font-family": "Lato",
        "font-size": 5.5
       },
       "h4": {
        "color": "c5cc3653-2ee1-402a-aba2-7caae1da4f6c",
        "font-family": "Lato",
        "font-size": 5
       },
       "h5": {
        "font-family": "Lato"
       },
       "h6": {
        "font-family": "Lato"
       },
       "h7": {
        "font-family": "Lato"
       },
       "pre": {
        "font-family": "Anonymous Pro",
        "font-size": 4
       }
      },
      "text-base": {
       "font-family": "Merriweather",
       "font-size": 4
      }
     },
     "cb59102b-739b-46ff-bf8b-c9d58641059b": {
      "backgrounds": {
       "dc7afa04-bf90-40b1-82a5-726e3cff5267": {
        "background-color": "31af15d2-7e15-44c5-ab5e-e04b16a89eff",
        "id": "dc7afa04-bf90-40b1-82a5-726e3cff5267"
       }
      },
      "id": "cb59102b-739b-46ff-bf8b-c9d58641059b",
      "palette": {
       "19cc588f-0593-49c9-9f4b-e4d7cc113b1c": {
        "id": "19cc588f-0593-49c9-9f4b-e4d7cc113b1c",
        "rgb": [
         252,
         252,
         252
        ]
       },
       "31af15d2-7e15-44c5-ab5e-e04b16a89eff": {
        "id": "31af15d2-7e15-44c5-ab5e-e04b16a89eff",
        "rgb": [
         68,
         68,
         68
        ]
       },
       "50f92c45-a630-455b-aec3-788680ec7410": {
        "id": "50f92c45-a630-455b-aec3-788680ec7410",
        "rgb": [
         197,
         226,
         245
        ]
       },
       "c5cc3653-2ee1-402a-aba2-7caae1da4f6c": {
        "id": "c5cc3653-2ee1-402a-aba2-7caae1da4f6c",
        "rgb": [
         43,
         126,
         184
        ]
       },
       "efa7f048-9acb-414c-8b04-a26811511a21": {
        "id": "efa7f048-9acb-414c-8b04-a26811511a21",
        "rgb": [
         25.118061674008803,
         73.60176211453744,
         107.4819383259912
        ]
       }
      },
      "rules": {
       "a": {
        "color": "19cc588f-0593-49c9-9f4b-e4d7cc113b1c"
       },
       "blockquote": {
        "color": "50f92c45-a630-455b-aec3-788680ec7410",
        "font-size": 3
       },
       "code": {
        "font-family": "Anonymous Pro"
       },
       "h1": {
        "color": "19cc588f-0593-49c9-9f4b-e4d7cc113b1c",
        "font-family": "Merriweather",
        "font-size": 8
       },
       "h2": {
        "color": "19cc588f-0593-49c9-9f4b-e4d7cc113b1c",
        "font-family": "Merriweather",
        "font-size": 6
       },
       "h3": {
        "color": "50f92c45-a630-455b-aec3-788680ec7410",
        "font-family": "Lato",
        "font-size": 5.5
       },
       "h4": {
        "color": "c5cc3653-2ee1-402a-aba2-7caae1da4f6c",
        "font-family": "Lato",
        "font-size": 5
       },
       "h5": {
        "font-family": "Lato"
       },
       "h6": {
        "font-family": "Lato"
       },
       "h7": {
        "font-family": "Lato"
       },
       "li": {
        "color": "50f92c45-a630-455b-aec3-788680ec7410",
        "font-size": 3.25
       },
       "pre": {
        "font-family": "Anonymous Pro",
        "font-size": 4
       }
      },
      "text-base": {
       "color": "19cc588f-0593-49c9-9f4b-e4d7cc113b1c",
       "font-family": "Lato",
       "font-size": 4
      }
     }
    }
   }
  }
 },
 "nbformat": 4,
 "nbformat_minor": 1
}
