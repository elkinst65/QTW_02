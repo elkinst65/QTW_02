{
 "cells": [
  {
   "cell_type": "markdown",
   "metadata": {},
   "source": [
    "# MSDS 7333 - Case Study One: Using Multiple Imputation\n",
    "\n",
    "### Investigators\n",
    "- [Matt Baldree](mailto:mbaldree@smu.edu?subject=lab2)\n",
    "- [Ben Brock](bbrock@smu.edu?subject=lab2)\n",
    "- [Tom Elkins](telkins@smu.edu?subject=lab2)\n",
    "- [Austin Kelly](ajkelly@smu.edu?subject=lab2)\n",
    "\n",
    "\n",
    "<div style='margin-left:10%;margin-right:10%;margin-top:15px;background-color:#d3d3d3;padding:5px;'>\n",
    "    <h3>Instructions</h3>\n",
    "    <p>Carry out the following steps for Case Study One: Using Multiple Imputation.</p>\n",
    "     <p>Steps:</p>\n",
    "    <ol>\n",
    "        <li>Use PROC MI to discover the missing values patterns and to decide what MI options to use. (Assume no need for transformations.)</li>\n",
    "        <li>Use PROC MI to create multiple imputed data sets.</li>\n",
    "        <li>Use PROC REG to analzye the multiple data sets while outputting information to be used in MIANALYZE.</li>\n",
    "        <li>Use PROC MIANALYZE to summarize the imputed analyses.</li>\n",
    "        <li>Compare these results to the listwise deletion results.</li>\n",
    "    </ol> \n",
    "    <p>Report Sections:</p>\n",
    "    <ol>\n",
    "        <li>[Introduction](#introduction) <b>(5 points)</b></li>\n",
    "        <li>[Background](#background) <b>(10 points)</b></li>\n",
    "        <li>[Methods](#methods) <b>(30 points)</b></li>\n",
    "        <li>[Results](#results) <b>(30 points)</b></li>\n",
    "        <li>[Conclusion](#conclusion) <b>(5 points)</b></li>\n",
    "        <li>[Bibliography and Citation](#biblio) <b>(5 points)</b></li>\n",
    "        <li>[Code](#code) <b>(5 points)</b></li>\n",
    "    </ol>\n",
    "     <p>Other Grading Criterium:</p>\n",
    "    <ol>\n",
    "        <li>Grammar and Organization <b>(10 points)</b></li>\n",
    "    </ol>\n",
    "</div>"
   ]
  },
  {
   "cell_type": "markdown",
   "metadata": {},
   "source": [
    "<a id='introduction'></a>\n",
    "## 1 - Introduction\n",
    "<div style='margin-left:10%;margin-right:10%;margin-top:15px;background-color:#d3d3d3;padding:10px;'>\n",
    "<h3>Introduction (<b>5 points total</b>)</h3>\n",
    "</div>"
   ]
  },
  {
   "cell_type": "markdown",
   "metadata": {},
   "source": [
    "### Predicting Miles per Gallon from Engine Type, Cylinders, Size, Weight, Horsepower, and Acceleration.\n",
    "\n",
    "Miles per gallon is a very important attribute when new car owners or seasoned car owners plan to purchase a new vehicle.  The “CARMPG” data set contains data for 38 cars as measured in 2005.  In today’s global economy, car owners can purchase various domestic or foreign car models that are fuel-efficient, environment friendly and easy to maintain. \n",
    "\n",
    "\n",
    "In this exercise, we will predict the miles per gallon (mpg) of the vehicle based on the following attributes: Engine Type, Cylinders, Size, Horsepower, Weight and Acceleration.\n",
    "\n",
    "\n",
    "Objective of Case Study 2\n",
    "- Use PROC MI to discover the missing values patterns and to decide what \n",
    "\tMI options to use. (Assume no tranformations.)\n",
    "- Use PROC MI to create multiple imputed data sets.\n",
    "- Use PROC REG to analyze the multiple data sets while outputting information\n",
    "\tto be used in MIANALYZE.\n",
    "- Use PROC MIANALYZE to summarize the imputed analyses.\n",
    "- Compare these results to the listwise deletion results.\n",
    "\n",
    "\n",
    "#### NOTE: Based on the objective of this case study, our team decided to use the SAS programming language to solve the problem.\n"
   ]
  },
  {
   "cell_type": "markdown",
   "metadata": {},
   "source": [
    "<a id=\"background\"></a>\n",
    "## 2 - Background\n",
    "\n",
    "<div style='margin-left:10%;margin-right:10%;margin-top:15px;background-color:#d3d3d3;padding:10px;'>\n",
    "<h3>Background (<b>10 points total</b>)</h3>\n",
    "</div>"
   ]
  },
  {
   "cell_type": "markdown",
   "metadata": {},
   "source": [
    "## Background: Brief Background of Data Set and Multiple Imputation\n",
    "\n",
    "### Brief Background of the \"CARMPG\" Data Set\n",
    "The response variable is mpg, there are two (2) categorical variables which are the variables Engine Type (ENG_TYPE) and Cylinders, and the continuous variables are Size, Horsepower (HP), Weight and Acceleration (ACCEL).  The data set consists of a sample of 38 observations based on different aspects of car attributes (mpg, Engine Type, Cylinders, Size, Horsepower, Weight, and Acceleration).  The objective of this exercise is to examine the relationship between each of these predictor variables and the response variable of mpg in the hopes that a customer will be able to identify important relationships and address specific mpg factors when purchasing a vehicle. The ultimate goal is to fit a model using some or all of these variables to predict mpg. \n",
    "\n",
    "#### Field Definitions\n",
    "Variables used in the CARMPG data set. \n",
    "\n",
    "|Column|Data Type|Value Range|Description|Categorical/Continuous Variable|\n",
    "|:-----|:--------|:----------|:----------|:-----:|\n",
    "|ENG_TYPE|Integer|0-1|The type of engine in the vehicle.|Categorical|\n",
    "|CYLINDERS|Integer|4-8| The number of cylinders in the vehicle's engine.|Categorical|\n",
    "|SIZE|Integer|>89| Engine displacement (larger number = bigger engine). |Continuous|\n",
    "|HP|Integer|>65| Engine horsepower. Horsepower is treated as a continuous variable.|Continuous|\n",
    "|WEIGHT|Integer|>0| Car weight. The car weight in kilo-pounds. Weight is considered to be a continuous variable.   |Continuous|\n",
    "|ACCEL|Integer|>0|Acceleration, is representative of how fast the car can increase speed to 60 mph starting when the car is not in motion (0 mpg). This variable is considered to be a continuous variable.|Continuous|\n",
    "|MPG|Integer|>0|The response variable is miles per gallon (mpg). |RESPONSE VARIABLE|\n",
    "\n",
    "\n",
    "### Brief Background of Multiple Imputation (MI)\n",
    "The challenge of analyzing any data set by a data analyst or data scientist is how to solve the problem of data sets that may be missing some values.  From our studies in the class, there are many ways to address the problem of missing data but what is the best way to handle this problem [1].  The common types of missing data are: (1) MCAR (Missing completely at random), (2) MAR (Missing at Random), (3) MNAR (Missing Not at Random).  \n",
    "\n",
    "The MSDS 7333 \"Quantifying the World\" lecturer stated that there are two approaches that may be used when data are missing from the data set: (1) Fill in the blanks based on other variables which are highly correlated with the missing values, or (2) use the incomplete data set, omitting records that contain the missing values [2].   \n",
    "\n",
    "For this case study, we have been challenged to use the multiple imputation procedures discussed in our class lectures to resolve the missing values in the data set [3].  The \"Multiple Imputation\" highlights are:\n",
    "\n",
    "- Missing values are replaced by values calculated via existing values from other variables,\n",
    "- Newly generated values stand in for missing values,\n",
    "- Imputed values are drawn from distributions that reflect specific uncertainties about the existing values,\n",
    "- Multiple data sets are created, each containing a different set of imputes,\n",
    "- Standard techniques are then used to analyze each data set, and\n",
    "- Results are combined into the overall analysis [3].\n",
    "\n",
    "\n",
    "The authors or investigators will use the SAS PROC MI procedure to determine the missing values in the data set [3].   The highlights of the SAS MI procedure are [3]:\n",
    "- (1) Create the Data Sets,\n",
    "- (2) Analyze the Imputed Data Sets\n",
    "- (3) Combine Analysis Results \n",
    "\n",
    "\n",
    "As we stated earlier, our ultimate goal is to fit the model and predict the value the response variable \"mpg\".  Again, the objective of the Case Study 2 are:\n",
    "- Analyze this data set using multiple imputation.\n",
    "- Use PROC MI to discover the missing value patterns and to decide what MI options to use. (Assume no tranformations.)\n",
    "- Use PROC MI to create multiple imputed data sets.\n",
    "- Use PROC REG to analyze the multiple data sets while outputting information to be used in MIANALYZE.\n",
    "- Use PROC MIANALYZE to summarize the imputed analyses.\n",
    "- Compare these results to the listwise deletion results."
   ]
  },
  {
   "cell_type": "markdown",
   "metadata": {},
   "source": [
    "<a id=\"methods\"></a>\n",
    "## 3 - Methods\n",
    "\n",
    "<div style='margin-left:10%;margin-right:10%;margin-top:15px;background-color:#d3d3d3;padding:10px;'>\n",
    "<h3>Methods (<b>30 points total</b>)</h3>\n",
    "<ol>\n",
    "    <li>Brief descriptive analysis of the data</li>\n",
    "    <li>Discover correct missing values patterns.</li>\n",
    "    <li>Explain missing data mechanism assumption and why it's reasonable</li>\n",
    "    <li>Describe creation of multiple imputed data sets</li>\n",
    "    <li>Descriptive analysis of multiple imputed data sets & comparison to listwise/complete data sets</li>\n",
    "</ol>"
   ]
  },
  {
   "cell_type": "markdown",
   "metadata": {},
   "source": [
    "<div style='margin-left:0%;margin-right:72%;margin-top:15px;background-color:#d3d3d3;padding:10px;'>\n",
    "<p>1. Brief Descriptive analysis of the data.</p>"
   ]
  },
  {
   "cell_type": "markdown",
   "metadata": {},
   "source": [
    "By running a PROC MEANS procedure on the inital data set, we are met with the following table: \n",
    "\n",
    "|Variable|N|Mean|Std Dev|Minimum|Maximum\n",
    "|:----|:----|:----|:----|:----|:----|\n",
    "|MPG|38|24.7605263|6.5473138|15.5|37.3|\n",
    "|Cylinders|34|5.3235294|1.6090763|4|8|\n",
    "|Size|35|180.8857143|91.4239547|85|360|\n",
    "|HP|33|101.3333|27.1185668|65|155|\n",
    "|Weight|32|2.9056250|0.7091906|1.915|4.36|\n",
    "|Accel|34|14.9441176|1.5897763|11.3|19.2|\n",
    "|Eng_Type|35|0.2857143|0.45483492|0|1|\n",
    "\n",
    "\n",
    "At first glance, we can see this is a standard descriptive statistics table. Upon further inspection, we see there are differing values of 'N' for each of the variables. While MPG has 38, others such as Weight and HP have 32 and 33 respective entries. This is a data set with missing data! "
   ]
  },
  {
   "cell_type": "markdown",
   "metadata": {},
   "source": [
    "## \"CARMPG\" Data Set (Partial)\n",
    "\n",
    "\n",
    "<img src='imgs/car-mpg-snippet-dataset.jpg'>\n",
    "\n",
    "\n",
    "As you can see, we have quite a few of missing values throughout the CARMPG data set.\n",
    "\n",
    "From above, we have verified both by the SAS PROC REG statement and by visual inspection of the data set, that we had missing data values."
   ]
  },
  {
   "cell_type": "markdown",
   "metadata": {},
   "source": [
    "<div style='margin-left:0%;margin-right:70%;margin-top:15px;background-color:#d3d3d3;padding:10px;'>\n",
    "<p>2. Discover correct missing values patterns.</p>"
   ]
  },
  {
   "cell_type": "markdown",
   "metadata": {},
   "source": [
    "## Investigation into How Many Values are Missing in the Data Set\n",
    "\n",
    "\n",
    "We can use SAS PROC REG to determine how many observations from the \"CARMPG\" data set will be deleted.   This is a novel way of determing this information quickly.\n",
    "\n",
    "<img src='imgs/SummaryOfMissingObservations.jpg'>\n",
    "\n",
    "\n",
    "Based on the PROC REG results, out of the 38 observations, 20 observations were deleted because of missing values, and only 18 observations were kept.  This should cause us some concern.\n",
    "\n",
    "\n",
    "\n"
   ]
  },
  {
   "cell_type": "markdown",
   "metadata": {},
   "source": [
    "Note:\n",
    "Since ENG_TYPE and Cylinders are both categorical variables, the more formal way of generating the linear regression equation would be to use the dummy variables approach for the categorical variables.   In the initial \"CARMPG\" data set, there were missing values for the engine type and cylinders variables.   We could have used either the PROC GLM or the PROC MIXED SAS command to do our analysis to predict the initial linear regression model.  The PROC GLM or PROC SAS command internally handles the categorical variables - dummy variable approach.  When one uses the PROG REG SAS command, you must manually set up the dummy variables for the categorical variables that are used in the linear regression model.   For this exercise, our team did not attempt to do this, we treated all variables as continuous variables in order to focus on the exercise."
   ]
  },
  {
   "cell_type": "markdown",
   "metadata": {},
   "source": [
    "To find the frequency of the missing data, we used the SAS procedure PROC MI. This will bring to light all and any patterns exhibited by the missing data if any exist. \n",
    "\n",
    "Some things to consider: \n",
    "For the missing data pattern to be **Monotone**, we will expect to see all of the missing data to be grouped together on the right side of the table. This pattern is considered to be rare, as the data was likely methodically left out, which classifies the data to be *Missing Not at Random*\n",
    "\n",
    "<img src=\"imgs/Monotone Example.jpg\">\n",
    "\n",
    "For the missing data pattern to be considered **Non-Monotone** ( or **arbitrary**), we should expect to see a random distribution of the missing values throughout the data set, with no readily discernible pattern. This pattern is far more common and indicates the data is likely *Missing Completely at Randon*\n",
    "\n",
    "<img src=\"imgs/Arbitrary Example.jpg\">\n",
    "\n",
    "After running the PROC MI procedure, we see the results:\n",
    "\n",
    "The code displays the patterns of missing data, so you can determine if patterns are monotone or non-monotone (arbitrary). \n",
    "\n",
    "<img src='imgs/Monotone-Code.jpg'>\n",
    "\n",
    "\n",
    "<img src=\"imgs/Initial Missing Pattern.jpg\">\n",
    "\n",
    "With the aforementioned examples in mind, there is no immediately recognizable pattern to the missing-ness of this data. Therefore, it is safe to conclude that the missing data is **Arbitrary** (non-monotone of missingness)."
   ]
  },
  {
   "cell_type": "markdown",
   "metadata": {},
   "source": [
    "<div style='margin-left:0%;margin-right:50%;margin-top:15px;background-color:#d3d3d3;padding:10px;'>\n",
    "<p>3. Explain missing data mechanism assumption and why it's reasonable </p>"
   ]
  },
  {
   "cell_type": "markdown",
   "metadata": {},
   "source": [
    "A common mechanism for handling missing data is Listwise deletion. With this mechanism, if a record (row) has a missing datum, the entire record is deleted. This works on large data sets with tens of thousands of rows or more (if there are only a handful of missing values), but the repercussions are more pronounced on smaller data sets such as this one. Deleting an entire record may unintentionally obfuscate other characteristics about the dataset which may be vital to an accurate model, or bias the effect on variance. In short, every effort should be made to preserve the original characteristics of a dataset.\n",
    "\n",
    "Another substitution mechanism employed is Regression Substitution. This mechanism utilizes the original data to determine which values could be substituted into the slots of the missing data. Venturing down this route to complete the data set not only adds statistical power to our resulting models, but it also adds to our certainty of the uncertainty within the dataset. \n",
    "\n",
    "Regression Substitution seems to be the most reasonable route to take when handling missing data, as we will see taking multiple imputations of the same data set and setting the \"average\" of all of them will mimic the results of the Expectation Maximization Algorithm (This technique is also referred to as Stochastic Gradient Descent). It is reasonable to take these steps as the result will be a model which has a lower variance and standard deviation than that of the original dataset, especially compared to the results of listwise deletion."
   ]
  },
  {
   "cell_type": "markdown",
   "metadata": {},
   "source": [
    "<div style='margin-left:0%;margin-right:65%;margin-top:15px;background-color:#d3d3d3;padding:10px;'>\n",
    "<p>4. Describe creation of multiple imputed data sets</p>"
   ]
  },
  {
   "cell_type": "markdown",
   "metadata": {},
   "source": [
    "## Create MI data using default MCMC for Non-Monotone\n",
    "\n",
    "Based on the \"CARSMPG\" data set, the important Model Information are: (1)the method is MCMC, (2) Multiple Imputation Chain is Single Chain, and (3) the Number of Imputations is 5.\n",
    "\n",
    "<img src='imgs/Step1-MI.jpg'>\n",
    "\n",
    "Through the use of the SAS procedure PROC MI, the data set was imputed five times and each imputation is completely independent of the others. Here is a snippet of the resulting imputations: \n",
    "\n",
    "<img src='imgs/miout snip.jpg'>\n",
    "\n",
    "As we can see, the far left side of the PROC MI results show which imputation iteration occurred to show the data on the right. This is the border between the first and second imputation. \n",
    "\n",
    "To reiterate, going through this process allows for us to maintain the initial integrity of the data set. Once all five iterations have been executed, the average value for each imputation in all 5 iterations is then kept as the final, chosen value for each missing value. Upon completion of this step, we are now able to apply PROC REG to the final imputed data set to analyze the variance/covariance of what the data set ***should*** look like."
   ]
  },
  {
   "cell_type": "markdown",
   "metadata": {},
   "source": [
    "<div style='margin-left:0%;margin-right:35%;margin-top:15px;background-color:#d3d3d3;padding:10px;'>\n",
    "<p>5. Descriptive analysis of multiple imputed data sets & comparison to listwise/complete data sets</p>"
   ]
  },
  {
   "cell_type": "markdown",
   "metadata": {},
   "source": [
    "Once the PROC MI step has been completed, the procedure PROC REG is then executed on the output. This step allows for a regression model to be created from each imputation of the data set. Much like the imputation iterations, each regression model is independent of one another. From these five models, we are able to perform PROC MIANALYZE to combine these models. These models are combined by averaging the individual parameters of each model to create a single, more representative model. This \"average\" model attempts to account for sample bias as the results are closer to the true estimates of the original dataset, rather than the result of a listwise deletion."
   ]
  },
  {
   "cell_type": "markdown",
   "metadata": {},
   "source": [
    "## Run Analysis Using Imputed Data\n",
    "\n",
    "\n",
    "<img src='imgs/RunMI-ImputedData.jpg'>\n",
    "\n",
    "\n",
    "Based on the analysis, no observations were deleted, we used the complete set of 38 observations."
   ]
  },
  {
   "cell_type": "markdown",
   "metadata": {},
   "source": [
    "<a id=\"results\"></a>\n",
    "## 4 - Results\n",
    "\n",
    "<div style='margin-left:10%;margin-right:10%;margin-top:15px;background-color:#d3d3d3;padding:10px;'>\n",
    "<h3>Results (<b>30 points total</b>)</h3>"
   ]
  },
  {
   "cell_type": "markdown",
   "metadata": {},
   "source": [
    "The results for our case study of using multiple imputation are shown below beginning with the results of `PROC REG` with no imputation and with multiple imputation from `PROC MI` and `PROC MIANALYZE`. A comparison of the results is also provided."
   ]
  },
  {
   "cell_type": "markdown",
   "metadata": {},
   "source": [
    "### 4.1.1 No Imputation"
   ]
  },
  {
   "cell_type": "markdown",
   "metadata": {},
   "source": [
    "The dataset was first analyzed with `PROC REG` for MPG to baseline the dataset and determine if any data was missing. Data was found to be missing in a random pattern. The ANOVA results of the dataset with no imputation is shown in [Figure 4.1](#ANOVA with No Imputation). The total degrees of freedom is 17. \n",
    "\n",
    "Examining the fit diagnostics for MPG is shown in [Figure 4.2](#Fit with No Imputation). These diagrams show a fairly random residual cloud, right skewness, and few outliers. There is a strong prediction of MPG from the indpendent variables with an adjusted $R^2=.88$. This means 88% of MPG can be explained by the other variables. No data points  provide strong leverage.\n",
    "\n",
    "Examining the residual diagrams in [Figure 4.3](#Residual with No Imputation) show two categories; i.e., engine and cylinders, where by the dataset could be further analyzed. The data shows the following:\n",
    "- there are more four cylinder car engines, \n",
    "- the average acceleration is 15 $ft/s^2$,\n",
    "- the engine displacement size is usually less than 200 $in^3$,\n",
    "- the engine horsepower is evenly distributed, and\n",
    "- cars typically weigh less than 3,000 pounds.\n",
    "\n",
    "The parameters for the linear regression is shown in [Figure 4.4](#Parameters Initial). Only the HP parameter is considered significant at alpha = .05. The parameters clearly show that a smaller engine car yields a higher MPG. For instance, an average MPG is gained when the engine HP is dropped by .195."
   ]
  },
  {
   "cell_type": "markdown",
   "metadata": {},
   "source": [
    "![ANOVA with No Imputation](imgs/anova_initial.png \"ANOVA with No Imputation\")\n",
    "<p style='text-align: center;'>\n",
    "Figure 4.1: ANOVA Table with No Imputation\n",
    "</p>"
   ]
  },
  {
   "cell_type": "markdown",
   "metadata": {},
   "source": [
    "![Fit with No Imputation](imgs/fit_initial.png \"Fit with No Imputation\")\n",
    "<p style='text-align: center;'>\n",
    "Figure 4.2: Fit with No Imputation\n",
    "</p>"
   ]
  },
  {
   "cell_type": "markdown",
   "metadata": {},
   "source": [
    "![Residual with No Imputation](imgs/residuals_initial.png \"Residual with No Imputation\")\n",
    "<p style='text-align: center;'>\n",
    "Figure 4.3: Residual with No Imputation\n",
    "</p>"
   ]
  },
  {
   "cell_type": "markdown",
   "metadata": {},
   "source": [
    "![Parameters Initial](imgs/parameters_initial.png \"Parameters with No Imputation\")\n",
    "<p style='text-align: center;'>\n",
    "Figure 4.4: Parameters with No Imputation\n",
    "</p>"
   ]
  },
  {
   "cell_type": "markdown",
   "metadata": {},
   "source": [
    "### 4.1.2 With Imputation"
   ]
  },
  {
   "cell_type": "markdown",
   "metadata": {},
   "source": [
    "A second dataset was then determined for five imputations with `PROC MI` with the `MCMC` option to account for random missingness. Then, `PROC REG` was performed on the new dataset for each imputation. Finally, `PROC MIANALYZE` was used to determine average parameter values giving the five `PROC REG` results.\n",
    "\n",
    "[Figure 4.5](#ANOVA Imputation Iteration Five) shows the results of imputation iteration five. Notice that the degrees of freedom rose from 17 (original) to 37. The increased degrees of freedom provide more power because of the increased sample size. \n",
    "\n",
    "Examining the fit diagnostics for MPG is shown in [Figure 4.6](#Fit with Imputation). These diagrams show a fairly random residual cloud, right skewness, and few outliers. But this time, the residual cloud has better randomness. There is a strong prediction of MPG from the indpendent variables with an adjusted $R^2=.91$ compared to .88 (original). This means 91% of MPG can be explained by the other variables. No data points provide strong leverage.\n",
    "\n",
    "Examining the residual diagrams in [Figure 4.7](#Residual with Imputation) show two categories; i.e., engine and cylinders, but you can see random data was added for these classes from the imputation. This isn't realistic because engine type and clinders must be from a defined set of values. The data insights are similar to the above no imputation analysis.\n",
    "\n",
    "The parameters for the linear regression is shown in [Figure 4.8](#Parameters Combined). Cylinders and Engine Type parameters became significant in addition to HP at alpha = .05. This might be due to the non-standard cylinder and engine types imputed. Further analysis should be performed to determine a reason why they became significant. The parameters still show that a smaller engine car yields a higher MPG, but the effect of HP dropped from .195 to .16."
   ]
  },
  {
   "cell_type": "markdown",
   "metadata": {},
   "source": [
    "![ANOVA Imputation Iteration Five](imgs/anova_im5.png \"ANOVA Table with Imputation Iteration Five\")\n",
    "<p style='text-align: center;'>\n",
    "Figure 4.5: ANOVA Table with Imputation Iteration Five\n",
    "</p>"
   ]
  },
  {
   "cell_type": "markdown",
   "metadata": {},
   "source": [
    "![Fit with Imputation](imgs/fit_combined.png \"Fit with Imputation\")\n",
    "<p style='text-align: center;'>\n",
    "Figure 4.6: Fit with Multiple Imputation\n",
    "</p>"
   ]
  },
  {
   "cell_type": "markdown",
   "metadata": {},
   "source": [
    "![Residual with Imputation](imgs/residuals_combined.png \"Residual with Imputation\")\n",
    "<p style='text-align: center;'>\n",
    "Figure 4.7: Residual with Multiple Imputation\n",
    "</p>"
   ]
  },
  {
   "cell_type": "markdown",
   "metadata": {},
   "source": [
    "![Parameters Combined](imgs/parameters_combined.png \"Parameters with Imputation\")\n",
    "<p style='text-align: center;'>\n",
    "Figure 4.8: Parameters with Multiple Imputation\n",
    "</p>"
   ]
  },
  {
   "cell_type": "markdown",
   "metadata": {},
   "source": [
    "### 4.1.3 Comparison of No Imputation and Multiple Imputation"
   ]
  },
  {
   "cell_type": "markdown",
   "metadata": {},
   "source": [
    "[Table 4.9](#parameters) shows a comparison of parameter coefficients from `PROC REG` with no imputation of missing data and the parameter coefficients from `PROC MIANALYZE` with five iterations of imputation. The standard error was reduced for all parameters significantly (ranging from 27% to 56%) except for engine size. This means our combined sample is more representative of the population. This leads us to believe that the parameter estimates are more representative as well."
   ]
  },
  {
   "cell_type": "markdown",
   "metadata": {},
   "source": [
    "|Variable    |Orig Estimate|Orig Std Error|Combined Estimate|Combined Std Error|Diff Estimate|Diff Std Error|Diff % Std Error|\n",
    "|:-----------|:-----------:|:------------:|:---------------:|:----------------:|:-----------:|:------------:|:---:|\n",
    "|intercept   | 70.148      |8.038         |69.543           |4.676             |-0.605       |-3.362        |-41.8|\n",
    "|cylinders   |-3.334       |1.561         |-2.892           |0.767             | 0.442       |-0.794        |-50.9|\n",
    "|size        | 0.0228      |0.032         | 0.031           |0.0217            | 0.008       |-0.010        |-0.03|\n",
    "|horsepower  |-0.195       |0.081         |-0.159           |0.0461            | 0.036       |-.0349        |-43.1|\n",
    "|weight      |-0.306       |5.133         |-3.215           |3.740             |-2.909       |-1.393        |-27.1|\n",
    "|acceleration|-0.782       |0.583         |-0.722           |0.410             | 0.060       |-0.173        |-29.7|\n",
    "|engine type | 6.599       |3.590         | 5.855           |1.580             |-0.744       |-2.010        |-56.0|\n",
    "\n",
    "<a id=\"parameters\"></a>\n",
    "<p style='text-align: center;'>\n",
    "Table 4.9: Parameters Comparison of No Imputation and Multiple Imputation\n",
    "</p>"
   ]
  },
  {
   "cell_type": "markdown",
   "metadata": {},
   "source": [
    "### 4.1.4 Comparison of Original Analysis with Imputation Analysis\n",
    "\n",
    "<img src='imgs/ComparisonOriginal-Imputation.jpg'>\n",
    "\n",
    "\n",
    "Here the degrees of freedom for the Imputation with the complete Data Set is 37 whereas the degrees of freedom for the original data set is 17, and mean squared error for the imputed data set is lower than for the original."
   ]
  },
  {
   "cell_type": "markdown",
   "metadata": {},
   "source": [
    "<a id=\"conclusion\"></a>\n",
    "## 5 - Conclusion\n",
    "\n",
    "<div style='margin-left:10%;margin-right:10%;margin-top:15px;background-color:#d3d3d3;padding:10px;'>\n",
    "<h3>Conclusion (<b>5 points total</b>)</h3>"
   ]
  },
  {
   "cell_type": "markdown",
   "metadata": {},
   "source": [
    "Case study two, using multiple imputation, for cars MPG dataset illustrates how an investigator can best analyze a dataset with missing data, determine its missingness and pattern, and adapt a strategy allowing for most if not all data to be used. Using more data in the model will provide it with more power; thereby, more accurately representing its population. Multiple imputation provides an analysis that does the following:\n",
    "- \"reflects the uncertainty due to missing values,\n",
    "- creates a representative random sample of missing values,\n",
    "- is typically better than single imputation methods because it results in valid statistical inferences that reflect the uncertainty due to missing values.\" [4]\n",
    "\n",
    "The combined parameter estimates that are listed in [Table 4.9](#parameters), provide us with confidence that a good set of estimates are provided based on the natural variability within the original data set [4].   In our study, two parameters were categorical (Engine Type and Cylinders) and were imputed as if they were continuous variables. It is uncertain to us at this point if this approach has an adverse effect on the results. Further study is required [5]. \n",
    "\n",
    "The raw data for us to work with contained missing values. The missing data items were given a character value of '.' to indicate to SAS that this continuous value is blank.\n",
    "\n",
    "The case study was performed in SAS. In R, the approach might look like the following [6]:\n",
    "- read data into a dataframe\n",
    "- use summary() to determine the number of missing data per variable\n",
    "- use pattern() from Hmisc to characterize missingness\n",
    "- use glm() to fit a regression model for baseline parameters\n",
    "- use mice() from mice to impute missing values (Need research the equivalent of MCMC SAS option)\n",
    "- use glm.mids() to combine results\n",
    "- use summary() to view new parameter values\n",
    "\n",
    "#### Future Work\n",
    "Below are future work items for consideration:\n",
    "- Research best way to replace missing data with appropriate SAS character such as '.' for continuous data. Obviously, we can use Pandas, Excel, etc., but can we transform the data via SAS?\n",
    "- Rerun the analysis with R code and compare with SAS.\n",
    "- Research best practice for imputing categorical variables."
   ]
  },
  {
   "cell_type": "markdown",
   "metadata": {},
   "source": [
    "<a id=\"biblio\"></a>\n",
    "## 6 - Bibliography and Citation\n",
    "\n",
    "<div style='margin-left:10%;margin-right:10%;margin-top:15px;background-color:#d3d3d3;padding:10px;'>\n",
    "<h3>Bibliography and Citation (<b>5 points total</b>)</h3>"
   ]
  },
  {
   "cell_type": "markdown",
   "metadata": {},
   "source": [
    "- [1], 1.3 The Problem: Missing Values in Data Sets, MSDS 7333 Quantifying the World\n",
    "\n",
    "- [2], 1.4 Challenges to Missing Data, MSDS 7333 Quantifying the World\n",
    "\n",
    "- [3], 1.7 Multiple Imputation, MSDS 7333 Quantifying the World\n",
    "\n",
    "- [4], 2.3 PROC MI Example II, MSDS 7333 Quantifying the World\n",
    "\n",
    "- [5], Kropko, Jonathan et. al.; \"Multiple Imputation for Continuous and Categorical Data: Comparing Joint and Conditional Approaches\"; http://www.stat.columbia.edu/~gelman/research/published/MI_manuscript_RR.pdf, 2013.\n",
    "\n",
    "- [6], Kleinman, Ken and Horton, Nicholas J.; SAS and R Data Management, Statistical Analysis, and Graphics; pg. 309-311; 2014."
   ]
  },
  {
   "cell_type": "markdown",
   "metadata": {},
   "source": [
    "<a id=\"code\"></a>\n",
    "## 7 - Code\n",
    "\n",
    "<div style='margin-left:10%;margin-right:10%;margin-top:15px;background-color:#d3d3d3;padding:10px;'>\n",
    "<h3>Code (5 points)</h3>"
   ]
  },
  {
   "cell_type": "markdown",
   "metadata": {
    "collapsed": true
   },
   "source": [
    "\n",
    "```\n",
    "/*\n",
    "MSDS7333-401: Quantifying the World \n",
    "\n",
    "Case Study 2\n",
    "- Use PROC MI to discover the missing values patterns and to decide what \n",
    "\tMI options to use. (Assume no tranformations.)\n",
    "- Use PROC MI to create multiple imputed data sets.\n",
    "- Use PROC REG to analyze the multiple data sets while outputting information\n",
    "\tto be used in MIANALYZE.\n",
    "- Use PROC MIANALYZE to summarize the imputed analyses.\n",
    "- Compare these results to the listwise deletion results.\n",
    "*/\n",
    "\n",
    "* load dataset;\n",
    "data cars;\n",
    "\tinfile \"e:\\qtw_02\\carmpg_2_2_2_2.csv\" firstobs=2 delimiter=',';\n",
    "\tinput auto :$23. mpg cylinders size hp weight accel engtype;\n",
    "run;\n",
    "\n",
    "* print out entries;\n",
    "title 'MPG Dataset';\n",
    "proc print data=cars;\n",
    "run;\n",
    "\n",
    "* contents of dataset;\n",
    "title 'MPG Dataset Contents';\n",
    "proc datasets;\n",
    "   contents data=_all_;\n",
    "run;\n",
    "\n",
    "* what data is missing from dataset?;\n",
    "* use PROC REG with listwise deletion;\n",
    "title 'Predicting MPG (initial)';\n",
    "proc reg data=cars;\n",
    "\tmodel mpg = cylinders size hp weight accel engtype;\n",
    "run;\n",
    "quit;\n",
    "\n",
    "* is the missing data monotone or non-monotone?;\n",
    "* the data is non-monotone;\n",
    "title 'MI Pattern';\n",
    "ods select misspattern;\n",
    "proc mi data=cars nimpute=0;\n",
    "\tvar mpg cylinders size hp weight accel engtype;\n",
    "run;\n",
    "\n",
    "* create mi data using default MCMC for non-monotone;\n",
    "title 'MI with MCMC';\n",
    "proc mi data=cars out=miout seed=35399 nimpute=5;\n",
    "\tvar mpg cylinders size hp weight accel engtype;\n",
    "run;\n",
    "\n",
    "* run reg with mi data;\n",
    "title 'Predicting MPG with MI (final)';\n",
    "proc reg data=miout outest=outreg covout;\n",
    "\tmodel mpg = cylinders size hp weight accel engtype;\n",
    "\tby _Imputation_;\n",
    "run;\n",
    "\n",
    "* combine results;\n",
    "title 'Predicting MPG (combined)';\n",
    "proc mianalyze data=outreg;\n",
    "\tmodeleffects Intercept cylinders size hp weight accel engtype;\n",
    "run;\n",
    "```\n"
   ]
  }
 ],
 "metadata": {
  "anaconda-cloud": {},
  "kernelspec": {
   "display_name": "Python [PY2]",
   "language": "python",
   "name": "Python [PY2]"
  },
  "language_info": {
   "codemirror_mode": {
    "name": "ipython",
    "version": 2
   },
   "file_extension": ".py",
   "mimetype": "text/x-python",
   "name": "python",
   "nbconvert_exporter": "python",
   "pygments_lexer": "ipython2",
   "version": "2.7.12"
  },
  "nbpresent": {
   "slides": {},
   "themes": {
    "default": "cb59102b-739b-46ff-bf8b-c9d58641059b",
    "theme": {
     "8100c8f4-ae13-4c61-98d1-f3588e841503": {
      "id": "8100c8f4-ae13-4c61-98d1-f3588e841503",
      "palette": {
       "19cc588f-0593-49c9-9f4b-e4d7cc113b1c": {
        "id": "19cc588f-0593-49c9-9f4b-e4d7cc113b1c",
        "rgb": [
         252,
         252,
         252
        ]
       },
       "31af15d2-7e15-44c5-ab5e-e04b16a89eff": {
        "id": "31af15d2-7e15-44c5-ab5e-e04b16a89eff",
        "rgb": [
         68,
         68,
         68
        ]
       },
       "50f92c45-a630-455b-aec3-788680ec7410": {
        "id": "50f92c45-a630-455b-aec3-788680ec7410",
        "rgb": [
         155,
         177,
         192
        ]
       },
       "c5cc3653-2ee1-402a-aba2-7caae1da4f6c": {
        "id": "c5cc3653-2ee1-402a-aba2-7caae1da4f6c",
        "rgb": [
         43,
         126,
         184
        ]
       },
       "efa7f048-9acb-414c-8b04-a26811511a21": {
        "id": "efa7f048-9acb-414c-8b04-a26811511a21",
        "rgb": [
         25.118061674008803,
         73.60176211453744,
         107.4819383259912
        ]
       }
      },
      "rules": {
       "blockquote": {
        "color": "50f92c45-a630-455b-aec3-788680ec7410"
       },
       "code": {
        "font-family": "Anonymous Pro"
       },
       "h1": {
        "color": "c5cc3653-2ee1-402a-aba2-7caae1da4f6c",
        "font-family": "Lato",
        "font-size": 8
       },
       "h2": {
        "color": "c5cc3653-2ee1-402a-aba2-7caae1da4f6c",
        "font-family": "Lato",
        "font-size": 6
       },
       "h3": {
        "color": "50f92c45-a630-455b-aec3-788680ec7410",
        "font-family": "Lato",
        "font-size": 5.5
       },
       "h4": {
        "color": "c5cc3653-2ee1-402a-aba2-7caae1da4f6c",
        "font-family": "Lato",
        "font-size": 5
       },
       "h5": {
        "font-family": "Lato"
       },
       "h6": {
        "font-family": "Lato"
       },
       "h7": {
        "font-family": "Lato"
       },
       "pre": {
        "font-family": "Anonymous Pro",
        "font-size": 4
       }
      },
      "text-base": {
       "font-family": "Merriweather",
       "font-size": 4
      }
     },
     "cb59102b-739b-46ff-bf8b-c9d58641059b": {
      "backgrounds": {
       "dc7afa04-bf90-40b1-82a5-726e3cff5267": {
        "background-color": "31af15d2-7e15-44c5-ab5e-e04b16a89eff",
        "id": "dc7afa04-bf90-40b1-82a5-726e3cff5267"
       }
      },
      "id": "cb59102b-739b-46ff-bf8b-c9d58641059b",
      "palette": {
       "19cc588f-0593-49c9-9f4b-e4d7cc113b1c": {
        "id": "19cc588f-0593-49c9-9f4b-e4d7cc113b1c",
        "rgb": [
         252,
         252,
         252
        ]
       },
       "31af15d2-7e15-44c5-ab5e-e04b16a89eff": {
        "id": "31af15d2-7e15-44c5-ab5e-e04b16a89eff",
        "rgb": [
         68,
         68,
         68
        ]
       },
       "50f92c45-a630-455b-aec3-788680ec7410": {
        "id": "50f92c45-a630-455b-aec3-788680ec7410",
        "rgb": [
         197,
         226,
         245
        ]
       },
       "c5cc3653-2ee1-402a-aba2-7caae1da4f6c": {
        "id": "c5cc3653-2ee1-402a-aba2-7caae1da4f6c",
        "rgb": [
         43,
         126,
         184
        ]
       },
       "efa7f048-9acb-414c-8b04-a26811511a21": {
        "id": "efa7f048-9acb-414c-8b04-a26811511a21",
        "rgb": [
         25.118061674008803,
         73.60176211453744,
         107.4819383259912
        ]
       }
      },
      "rules": {
       "a": {
        "color": "19cc588f-0593-49c9-9f4b-e4d7cc113b1c"
       },
       "blockquote": {
        "color": "50f92c45-a630-455b-aec3-788680ec7410",
        "font-size": 3
       },
       "code": {
        "font-family": "Anonymous Pro"
       },
       "h1": {
        "color": "19cc588f-0593-49c9-9f4b-e4d7cc113b1c",
        "font-family": "Merriweather",
        "font-size": 8
       },
       "h2": {
        "color": "19cc588f-0593-49c9-9f4b-e4d7cc113b1c",
        "font-family": "Merriweather",
        "font-size": 6
       },
       "h3": {
        "color": "50f92c45-a630-455b-aec3-788680ec7410",
        "font-family": "Lato",
        "font-size": 5.5
       },
       "h4": {
        "color": "c5cc3653-2ee1-402a-aba2-7caae1da4f6c",
        "font-family": "Lato",
        "font-size": 5
       },
       "h5": {
        "font-family": "Lato"
       },
       "h6": {
        "font-family": "Lato"
       },
       "h7": {
        "font-family": "Lato"
       },
       "li": {
        "color": "50f92c45-a630-455b-aec3-788680ec7410",
        "font-size": 3.25
       },
       "pre": {
        "font-family": "Anonymous Pro",
        "font-size": 4
       }
      },
      "text-base": {
       "color": "19cc588f-0593-49c9-9f4b-e4d7cc113b1c",
       "font-family": "Lato",
       "font-size": 4
      }
     }
    }
   }
  }
 },
 "nbformat": 4,
 "nbformat_minor": 1
}
