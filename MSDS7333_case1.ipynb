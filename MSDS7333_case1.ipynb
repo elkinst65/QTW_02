{
 "cells": [
  {
   "cell_type": "markdown",
   "metadata": {},
   "source": [
    "# MSDS 7333 - Case Study One: Using Multiple Imputation\n",
    "\n",
    "### Investigators\n",
    "- [Matt Baldree](mailto:mbaldree@smu.edu?subject=lab2)\n",
    "- [Ben Brock](bbrock@smu.edu?subject=lab2)\n",
    "- [Tom Elkins](telkins@smu.edu?subject=lab2)\n",
    "- [Austin Kelly](ajkelly@smu.edu?subject=lab2)\n",
    "\n",
    "\n",
    "<div style='margin-left:10%;margin-right:10%;margin-top:15px;background-color:#d3d3d3;padding:5px;'>\n",
    "    <h3>Instructions</h3>\n",
    "    <p>Carry out the following steps for Case Study One: Using Multiple Imputation.</p>\n",
    "     <p>Steps:</p>\n",
    "    <ol>\n",
    "        <li>Use PROC MI to discover the missing values patterns and to decide what MI options to use. (Assume no need for transformations.)</li>\n",
    "        <li>Use PROC MI to create multiple imputed data sets.</li>\n",
    "        <li>Use PROC REG to analzye the multiple data sets while outputting information to be used in MIANALYZE.</li>\n",
    "        <li>Use PROC MIANALYZE to summarize the imputed analyses.</li>\n",
    "        <li>Compare these results to the listwise deletion results.</li>\n",
    "    </ol> \n",
    "    <p>Report Sections:</p>\n",
    "    <ol>\n",
    "        <li>[Introduction](#introduction) <b>(5 points)</b></li>\n",
    "        <li>[Background](#background) <b>(10 points)</b></li>\n",
    "        <li>[Methods](#methods) <b>(30 points)</b></li>\n",
    "        <li>[Results](#results) <b>(30 points)</b></li>\n",
    "        <li>[Conclusion](#conclusion) <b>(5 points)</b></li>\n",
    "        <li>[Bibliography and Citation](#biblio) <b>(5 points)</b></li>\n",
    "        <li>[Code](#code) <b>(5 points)</b></li>\n",
    "    </ol>\n",
    "     <p>Other Grading Criterium:</p>\n",
    "    <ol>\n",
    "        <li>Grammar and Organization <b>(10 points)</b></li>\n",
    "    </ol>\n",
    "</div>"
   ]
  },
  {
   "cell_type": "markdown",
   "metadata": {},
   "source": [
    "<a id='introduction'></a>\n",
    "## 1 - Introductions\n",
    "<div style='margin-left:10%;margin-right:10%;margin-top:15px;background-color:#d3d3d3;padding:10px;'>\n",
    "<h3>Introductions (<b>5 points total</b>)</h3>\n",
    "</div>"
   ]
  },
  {
   "cell_type": "markdown",
   "metadata": {},
   "source": [
    "### Predicting Miles per Gallon from Engine Type, Cylinders, Size, Weight, Horsepower, and Acceleration.\n",
    "\n",
    "Miles per gallon is a very important attribute when new car owners or seasoned car owners plan to purchase a new vehicle.  The “CARMPG” data set contains data for 38 cars as measured in 2005.  In today’s global economy, car owners can purchase various domestic or foreign car models that are fuel-efficient, environment friendly and easy to maintain. \n",
    "\n",
    "\n",
    "In this exercise, we will predict the miles per gallon (mpg) of the vehicle based on the following attributes: Engine Type, Cylinders, Size, Horsepower, Weight and Acceleration.\n",
    "\n",
    "\n",
    "Objective of Case Study 2\n",
    "- Use PROC MI to discover the missing values patterns and to decide what \n",
    "\tMI options to use. (Assume no tranformations.)\n",
    "- Use PROC MI to create multiple imputed data sets.\n",
    "- Use PROC REG to analyze the multiple data sets while outputting information\n",
    "\tto be used in MIANALYZE.\n",
    "- Use PROC MIANALYZE to summarize the imputed analyses.\n",
    "- Compare these results to the listwise deltion results.\n",
    "\n",
    "\n",
    "#### NOTE: Based on the objective of this case study, our team decided to use the SAS programming language to solve the problem.\n"
   ]
  },
  {
   "cell_type": "markdown",
   "metadata": {},
   "source": [
    "<a id=\"background\"></a>\n",
    "## 2 - Background\n",
    "\n",
    "<div style='margin-left:10%;margin-right:10%;margin-top:15px;background-color:#d3d3d3;padding:10px;'>\n",
    "<h3>Background (<b>10 points total</b>)</h3>\n",
    "</div>"
   ]
  },
  {
   "cell_type": "markdown",
   "metadata": {},
   "source": [
    "## Background: Brief Background of Data Set and Multiple Imputation\n",
    "\n",
    "### Brief Background of the \"CARMPG\" Data Set\n",
    "The response variable is mpg, there is only one categorical variables which is the variable Cylinder, and the continuous variables are Size, Horsepower (HP), Weight and Acceleration (ACCEL).  The data set consists of a sample of 38 observations based on different aspects of car attributes (mpg, Engine Type, Cylinders, Size, Horsepower, Weight, and Acceleration).  The objective of this exercise is to examine the relationship between each of these predictor variables and the response variable of mpg in hopes that a customer will be able to identify important relationships and address specific mpg factors when purchasing a vehicle. The ultimate goal is to fit a model using some or all of these variables to predict mpg. \n",
    "\n",
    "\n",
    "### Brief Background of Multiple Imputation (MI)\n",
    "The challenge of analyzing any data set by a data analyst or data scientist is how to solve the problem of data sets that may be missing some values.  From our studies in the class, there are many ways to address the problem of missing data but what is the best way to handle this problem [1].  The common types of missing data are: (1) MCAR (Missing completely at random), (2) MAR (Missing at Random), (3) MCAR (Missing Completely at Random), (4) MAR (Missing at Random), and (5) MNAR (Missing Not at Random).  \n",
    "\n",
    "There MSDS Quantifying the World lecturer stated that there are two approaches to use when the data are missing from the data set: (1) Fill in the blanks based on other variables which are highly correlated with the missing values, or (2) use the incomplete data set, omitting records that contain the missing values [2].   \n",
    "\n",
    "For this case study, we have been challenged to use the multiple imputation procedures discussed in our class lectures to resolve the missing values in the data set [3].  The \"Multiple Imputation\" highlights are:\n",
    "\n",
    "- Missing values are replaced by values caluculated via existing values from other variables,\n",
    "- Newly generated values stand in for missing values,\n",
    "- Imputed values are drawn from distributuions that reflect specific uncertainties about the existing values,\n",
    "- Multiple data sets are created, each containing a different set of imputes,\n",
    "- standard techniques are then used to analyze each data set, and\n",
    "- results are combined into the overall analysis [3].\n",
    "\n",
    "\n",
    "The authors or investigators will use the SAS PROC MI procedure to determine the missing values in the data set [3].   The highlights of the SAS MI procedure are [3]:\n",
    "- (1) Create the Data Sets,\n",
    "- (2) Analyze the Imputed Data Sets\n",
    "- (3) Combine Analysis Results \n",
    "\n",
    "\n",
    "As we stated earlier, our ultimate goal is to fit the model and predict the value the response variable \"mpg\".  Again, the objective of the Case Study 2 are:\n",
    "- Analyze this data set using multiple imputation.\n",
    "- Use PROC MI to discover the missing values patterns and to decide what \n",
    "\tMI options to use. (Assume no tranformations.)\n",
    "- Use PROC MI to create multiple imputed data sets.\n",
    "- Use PROC REG to analyze the multiple data sets while outputting information\n",
    "\tto be used in MIANALYZE.\n",
    "- Use PROC MIANALYZE to summarize the imputed analyses.\n",
    "- Compare these results to the listwise deltion results.\n",
    "\n"
   ]
  },
  {
   "cell_type": "markdown",
   "metadata": {},
   "source": [
    "#### Field Definitions\n",
    "Variables used in the CARMPG data set. \n",
    "\n",
    "|Column|Data Type|Value Range|Description|Categorical/Continuous Variable|\n",
    "|:-----|:--------|:----------|:----------|:-----:|\n",
    "|ENG_TYPE|Integer|0-1|The type of engine in the vehicle.|Categorical|\n",
    "|CYLINDERS|Integer|4-8| The number of cylinders in the vehicle.|Continuous|\n",
    "|SIZE|Integer|>89| Engine displacement (larger number = bigger engine). |Continuous|\n",
    "|HP|Integer|>65| Engine horsepower. Horsepower is measured in rpm (revolution per minute) and is treated as a continuous variable.|Continuous|\n",
    "|WEIGHT|Integer|>0| Car weight. The car weight in kilo-pounds of how much the car weighs. Weight is considered to be a continuous variable.   |Continuous|\n",
    "|ACCEL|Integer|>0|Acceleration, is representative of how fast the car can increase speed to 60 mph starting when the car is not in motion (0 mpg). This variable is considered to be a continuous variable.|Continuous|\n",
    "|MPG|Integer|>0|The response variable is mpg. |RESPONSE VARIABLE|\n"
   ]
  },
  {
   "cell_type": "markdown",
   "metadata": {},
   "source": [
    "<a id=\"methods\"></a>\n",
    "## 3 - Methods\n",
    "\n",
    "<div style='margin-left:10%;margin-right:10%;margin-top:15px;background-color:#d3d3d3;padding:10px;'>\n",
    "<h3>Methods (<b>30 points total</b>)</h3>"
   ]
  },
  {
   "cell_type": "markdown",
   "metadata": {},
   "source": [
    "Methods"
   ]
  },
  {
   "cell_type": "markdown",
   "metadata": {},
   "source": [
    "<a id=\"results\"></a>\n",
    "## 4 - Results\n",
    "\n",
    "<div style='margin-left:10%;margin-right:10%;margin-top:15px;background-color:#d3d3d3;padding:10px;'>\n",
    "<h3>Results (<b>30 points total</b>)</h3>"
   ]
  },
  {
   "cell_type": "markdown",
   "metadata": {},
   "source": [
    "The results for our case study of using multiple imputation are shown below beginning with the results of `PROC REG` with no imputation and with multiple imputation from `PROC MI` and `PROC MIANALYZE`. A comparison of the results is also provided."
   ]
  },
  {
   "cell_type": "markdown",
   "metadata": {},
   "source": [
    "### 4.1 No Imputation"
   ]
  },
  {
   "cell_type": "markdown",
   "metadata": {},
   "source": [
    "The dataset was first analyzed with `PROC REG` for MPG to baseline the dataset and determine if any data was missing. Data was found to be missing in a random pattern. The ANOVA results of the dataset with no imputation is shown in [Figure 4.1](#ANOVA with No Imputation). The total degrees of freedom is 17. \n",
    "\n",
    "Examining the fit diagnostics for MPG is shown in [Figure 4.2](#Fit with No Imputation). These diagrams show a fairly random residual cloud, right skewness, and few outliers. There is a strong prediction of MPG from the indpendent variables with an adjusted $R^2=.88$. This means 88% of MPG can be explained by the other variables. No data points are provide strong leverage.\n",
    "\n",
    "Examining the residual diagrams in [Figure 4.3](#Residual with No Imputation) show two categories; i.e., engine and cylinders, where by the dataset could be further analyzed. The data shows the following:\n",
    "- there are more four cylinder car engines, \n",
    "- the average acceleration is 15 $ft/s^2$,\n",
    "- the engine displacement size is usually less than 200 $in^3$,\n",
    "- the enginer horsepower is evenly distributed, and\n",
    "- cars typically weigh less than 3,000 pounds.\n",
    "\n",
    "The parameters for the linear regression is shown in [Figure 4.4](#Parameters Initial). Only HP parameter is considered significant at alpha = .05. The parameters clearly show that a smaller engine car yields a higher MPG. For instance, an average MPG is gained when the engine HP is dropped by .195."
   ]
  },
  {
   "cell_type": "markdown",
   "metadata": {},
   "source": [
    "![ANOVA with No Imputation](imgs/anova_initial.png \"ANOVA with No Imputation\")\n",
    "<p style='text-align: center;'>\n",
    "Figure 4.1: ANOVA Table with No Imputation\n",
    "</p>"
   ]
  },
  {
   "cell_type": "markdown",
   "metadata": {},
   "source": [
    "![Fit with No Imputation](imgs/fit_initial.png \"Fit with No Imputation\")\n",
    "<p style='text-align: center;'>\n",
    "Figure 4.2: Fit with No Imputation\n",
    "</p>"
   ]
  },
  {
   "cell_type": "markdown",
   "metadata": {},
   "source": [
    "![Residual with No Imputation](imgs/residuals_initial.png \"Residual with No Imputation\")\n",
    "<p style='text-align: center;'>\n",
    "Figure 4.3: Residual with No Imputation\n",
    "</p>"
   ]
  },
  {
   "cell_type": "markdown",
   "metadata": {},
   "source": [
    "![Parameters Initial](imgs/parameters_initial.png \"Parameters with No Imputation\")\n",
    "<p style='text-align: center;'>\n",
    "Figure 4.4: Parameters with No Imputation\n",
    "</p>"
   ]
  },
  {
   "cell_type": "markdown",
   "metadata": {},
   "source": [
    "### 4.1 With Imputation"
   ]
  },
  {
   "cell_type": "markdown",
   "metadata": {},
   "source": [
    "A second dataset was then determined for five imputations with `PROC MI` with the `MCMC` option to account for random missingness. Then, `PROC REG` was performed on the new dataset for each imputation. Finally, `PROC MIANALYZE` was used to determine average parameters values giving the five `PROC REG` results.\n",
    "\n",
    "[Figure 4.5](#ANOVA Imputation Iteration Five) shows the results of iteration five imputation. Notice that the degrees of freedom rose from 17 (original) to 37. The increase degrees of freedom provide more power because of the increased sample size. \n",
    "\n",
    "Examining the fit diagnostics for MPG is shown in [Figure 4.6](#Fit with Imputation). These diagrams show a fairly random residual cloud, right skewness, and few outliers. But this time, the residual cloud has better randomness. There is a strong prediction of MPG from the indpendent variables with an adjusted $R^2=.91$ compared to .88 (original). This means 91% of MPG can be explained by the other variables. No data points provide strong leverage.\n",
    "\n",
    "Examining the residual diagrams in [Figure 4.7](#Residual with Imputation) show two categories; i.e., engine and cylinders, but you can see random data was added for these classes from the imputation. This isn't realistic because engine type and clinders must be from a defined set of values. The data insight are similar to the above no imputation analysis.\n",
    "\n",
    "The parameters for the linear regression is shown in [Figure 4.8](#Parameters Combined). Cylinders and Engine Type parameters became significant in addition to HP at alpha = .05. This might be due to the non-standard cylinder and engine types imputed. Further analysis should be performed to determine reason why they became significant. The parameters still show that a smaller engine car yields a higher MPG, but the effect of HP dropped from .195 to .16."
   ]
  },
  {
   "cell_type": "markdown",
   "metadata": {},
   "source": [
    "![ANOVA Imputation Iteration Five](imgs/anova_im5.png \"ANOVA Table with Imputation Iteration Five\")\n",
    "<p style='text-align: center;'>\n",
    "Figure 4.5: ANOVA Table with Imputation Iteration Five\n",
    "</p>"
   ]
  },
  {
   "cell_type": "markdown",
   "metadata": {},
   "source": [
    "![Fit with Imputation](imgs/fit_combined.png \"Fit with Imputation\")\n",
    "<p style='text-align: center;'>\n",
    "Figure 4.6: Fit with Multiple Imputation\n",
    "</p>"
   ]
  },
  {
   "cell_type": "markdown",
   "metadata": {},
   "source": [
    "![Residual with Imputation](imgs/residuals_combined.png \"Residual with Imputation\")\n",
    "<p style='text-align: center;'>\n",
    "Figure 4.7: Residual with Multiple Imputation\n",
    "</p>"
   ]
  },
  {
   "cell_type": "markdown",
   "metadata": {},
   "source": [
    "![Parameters Combined](imgs/parameters_combined.png \"Parameters with Imputation\")\n",
    "<p style='text-align: center;'>\n",
    "Figure 4.8: Parameters with Multiple Imputation\n",
    "</p>"
   ]
  },
  {
   "cell_type": "markdown",
   "metadata": {},
   "source": [
    "### 4.1 Comparison of No Imputation and Multiple Imputation"
   ]
  },
  {
   "cell_type": "markdown",
   "metadata": {},
   "source": [
    "[Table 4.9](#parameters) shows a comparison of parameter coefficients from `PROC REG` with no imputation of missing data and the parameter coefficients from `PROC MIANALYZE` with five iterations of imputation. The standard error was reduced for all parameters significantly (ranging from 27% to 56%) except for engine size. This means are combined sample is more representative of the population. This leads us to believe that the parameter estimates are more representative as well."
   ]
  },
  {
   "cell_type": "markdown",
   "metadata": {},
   "source": [
    "|Variable    |Orig Estimate|Orig Std Error|Combined Estimate|Combined Std Error|Diff Estimate|Diff Std Error|Diff % Std Error|\n",
    "|:-----------|:-----------:|:------------:|:---------------:|:----------------:|:-----------:|:------------:|:---:|\n",
    "|intercept   | 70.148      |8.038         |69.543           |4.676             |-0.605       |-3.362        |-41.8|\n",
    "|cylinders   |-3.334       |1.561         |-2.892           |0.767             | 0.442       |-0.794        |-50.9|\n",
    "|size        | 0.0228      |0.032         | 0.031           |0.0217            | 0.008       |-0.010        |-0.03|\n",
    "|horsepower  |-0.195       |0.081         |-0.159           |0.0461            | 0.036       |-.0349        |-43.1|\n",
    "|weight      |-0.306       |5.133         |-3.215           |3.740             |-2.909       |-1.393        |-27.1|\n",
    "|acceleration|-0.782       |0.583         |-0.722           |0.410             | 0.060       |-0.173        |-29.7|\n",
    "|engine type | 6.599       |3.590         | 5.855           |1.580             |-0.744       |-2.010        |-56.0|\n",
    "\n",
    "<a id=\"parameters\"></a>\n",
    "<p style='text-align: center;'>\n",
    "Table 4.9: Parameters Comparison of No Imputation and Multiple Imputation\n",
    "</p>"
   ]
  },
  {
   "cell_type": "markdown",
   "metadata": {},
   "source": [
    "<a id=\"conclusion\"></a>\n",
    "## 5 - Conclusion\n",
    "\n",
    "<div style='margin-left:10%;margin-right:10%;margin-top:15px;background-color:#d3d3d3;padding:10px;'>\n",
    "<h3>Conclusion (<b>5 points total</b>)</h3>"
   ]
  },
  {
   "cell_type": "markdown",
   "metadata": {},
   "source": [
    "Case study two, using multiple imputation, for cars MPG dataset illustrates how an investigator can best analyze a dataset with missing data, determine its missingness and pattern, and adapt a strategy allowing for most if not all data to be used. Using more data in the model will provide it more power; thereby, more accurately representing its population. Multiple imputation provides an analysis does the following:\n",
    "- \"reflects the uncertainty due to missing values,\n",
    "- creates a representative random sample of missing values,\n",
    "- is typically better than single imputation methods because its resutls in valid statistical inferences that reflect the uncertainty due to missing values.\" [4]\n",
    "\n",
    "In our study, two parameters were categories and were imputed as if they were continuous variables. It is uncertain to us at this point if this approach has an adverse effect on the results. Further study is required [5]. \n",
    "\n",
    "The case study was performed in SAS. In R, the approach might look like the following [6]:\n",
    "- read data into a dataframe\n",
    "- use summary() to determine the number of missing data per variable\n",
    "- use pattern() from Hmisc to characterize missingness\n",
    "- use glm() to fit a regression model for baseline parameters\n",
    "- use mice() from mice to impute missing values (Need research the equivalent of MCMC SAS option)\n",
    "- use glm.mids() to combine results\n",
    "- use summary() to view new parameter values\n",
    "\n",
    "\n",
    "\n",
    "\n",
    "**TODO: Remove below before submission**\n",
    "- What did we learn?\n",
    "- Why is MI important?\n",
    "- Further Reading/Work?\n",
    "- How to do this in R?\n",
    "- impute values for categories?"
   ]
  },
  {
   "cell_type": "markdown",
   "metadata": {},
   "source": [
    "<a id=\"biblio\"></a>\n",
    "## 6 - Bibliography and Citation\n",
    "\n",
    "<div style='margin-left:10%;margin-right:10%;margin-top:15px;background-color:#d3d3d3;padding:10px;'>\n",
    "<h3>Bibliography and Citation (<b>5 points total</b>)</h3>"
   ]
  },
  {
   "cell_type": "markdown",
   "metadata": {},
   "source": [
    "- [1], 1.3 The Problem: Missing Values in Data Sets, MSDS 7333 Quantifying the World\n",
    "\n",
    "- [2], 1.4 Challenges to Missing Data, MSDS 7333 Quantifying the World\n",
    "\n",
    "- [3], 1.7 Multiple Imputation, MSDS 7333 Quantifying the World\n",
    "\n",
    "- [4], 2.3 PROC MI Example II, MSDS 7333 Quantifying the World\n",
    "\n",
    "- [5], Kropko, Jonathan et. al.; \"Multiple Imputation for Continuous and Categorical Data: Comparing Joint and Conditional Approaches\"; http://www.stat.columbia.edu/~gelman/research/published/MI_manuscript_RR.pdf, 2013.\n",
    "\n",
    "- [6], Kleinman, Ken and Horton, Nicholas J.; SAS and R Data Management, Statistical Analysis, and Graphics; pg. 309-311; 2014."
   ]
  },
  {
   "cell_type": "markdown",
   "metadata": {},
   "source": [
    "<a id=\"code\"></a>\n",
    "## 6 - Code\n",
    "\n",
    "<div style='margin-left:10%;margin-right:10%;margin-top:15px;background-color:#d3d3d3;padding:10px;'>\n",
    "<h3>Code (5 points)</h3>"
   ]
  },
  {
   "cell_type": "markdown",
   "metadata": {
    "collapsed": true
   },
   "source": [
    "\n",
    "```\n",
    "/*\n",
    "MSDS7333-401: Quantifying the World \n",
    "\n",
    "Case Study 2\n",
    "- Use PROC MI to discover the missing values patterns and to decide what \n",
    "\tMI options to use. (Assume no tranformations.)\n",
    "- Use PROC MI to create multiple imputed data sets.\n",
    "- Use PROC REG to analyze the multiple data sets while outputting information\n",
    "\tto be used in MIANALYZE.\n",
    "- Use PROC MIANALYZE to summarize the imputed analyses.\n",
    "- Compare these results to the listwise deltion results.\n",
    "*/\n",
    "\n",
    "* load dataset;\n",
    "data cars;\n",
    "\tinfile \"e:\\qtw_02\\carmpg_2_2_2_2.csv\" firstobs=2 delimiter=',';\n",
    "\tinput auto :$23. mpg cylinders size hp weight accel engtype;\n",
    "run;\n",
    "\n",
    "* print out entries;\n",
    "title 'MPG Dataset';\n",
    "proc print data=cars;\n",
    "run;\n",
    "\n",
    "* contents of dataset;\n",
    "title 'MPG Dataset Contents';\n",
    "proc datasets;\n",
    "   contents data=_all_;\n",
    "run;\n",
    "\n",
    "* what data is missing from dataset?;\n",
    "* use PROC REG with listwise deletion;\n",
    "title 'Predicting MPG (initial)';\n",
    "proc reg data=cars;\n",
    "\tmodel mpg = cylinders size hp weight accel engtype;\n",
    "run;\n",
    "quit;\n",
    "\n",
    "* is the missing data monotone or non-monotone?;\n",
    "* the data is non-monotone;\n",
    "title 'MI Pattern';\n",
    "ods select misspattern;\n",
    "proc mi data=cars nimpute=0;\n",
    "\tvar mpg cylinders size hp weight accel engtype;\n",
    "run;\n",
    "\n",
    "* create mi data using default MCMC for non-monotone;\n",
    "title 'MI with MCMC';\n",
    "proc mi data=cars out=miout seed=35399 nimpute=5;\n",
    "\tvar mpg cylinders size hp weight accel engtype;\n",
    "run;\n",
    "\n",
    "* run reg with mi data;\n",
    "title 'Predicting MPG with MI (final)';\n",
    "proc reg data=miout outest=outreg covout;\n",
    "\tmodel mpg = cylinders size hp weight accel engtype;\n",
    "\tby _Imputation_;\n",
    "run;\n",
    "\n",
    "* combine results;\n",
    "title 'Predicting MPG (combined)';\n",
    "proc mianalyze data=outreg;\n",
    "\tmodeleffects Intercept cylinders size hp weight accel engtype;\n",
    "run;\n",
    "```\n"
   ]
  }
 ],
 "metadata": {
  "anaconda-cloud": {},
  "kernelspec": {
   "display_name": "Python 3",
   "language": "python",
   "name": "python3"
  },
  "language_info": {
   "codemirror_mode": {
    "name": "ipython",
    "version": 3
   },
   "file_extension": ".py",
   "mimetype": "text/x-python",
   "name": "python",
   "nbconvert_exporter": "python",
   "pygments_lexer": "ipython3",
   "version": "3.6.0"
  },
  "nbpresent": {
   "slides": {},
   "themes": {
    "default": "cb59102b-739b-46ff-bf8b-c9d58641059b",
    "theme": {
     "8100c8f4-ae13-4c61-98d1-f3588e841503": {
      "id": "8100c8f4-ae13-4c61-98d1-f3588e841503",
      "palette": {
       "19cc588f-0593-49c9-9f4b-e4d7cc113b1c": {
        "id": "19cc588f-0593-49c9-9f4b-e4d7cc113b1c",
        "rgb": [
         252,
         252,
         252
        ]
       },
       "31af15d2-7e15-44c5-ab5e-e04b16a89eff": {
        "id": "31af15d2-7e15-44c5-ab5e-e04b16a89eff",
        "rgb": [
         68,
         68,
         68
        ]
       },
       "50f92c45-a630-455b-aec3-788680ec7410": {
        "id": "50f92c45-a630-455b-aec3-788680ec7410",
        "rgb": [
         155,
         177,
         192
        ]
       },
       "c5cc3653-2ee1-402a-aba2-7caae1da4f6c": {
        "id": "c5cc3653-2ee1-402a-aba2-7caae1da4f6c",
        "rgb": [
         43,
         126,
         184
        ]
       },
       "efa7f048-9acb-414c-8b04-a26811511a21": {
        "id": "efa7f048-9acb-414c-8b04-a26811511a21",
        "rgb": [
         25.118061674008803,
         73.60176211453744,
         107.4819383259912
        ]
       }
      },
      "rules": {
       "blockquote": {
        "color": "50f92c45-a630-455b-aec3-788680ec7410"
       },
       "code": {
        "font-family": "Anonymous Pro"
       },
       "h1": {
        "color": "c5cc3653-2ee1-402a-aba2-7caae1da4f6c",
        "font-family": "Lato",
        "font-size": 8
       },
       "h2": {
        "color": "c5cc3653-2ee1-402a-aba2-7caae1da4f6c",
        "font-family": "Lato",
        "font-size": 6
       },
       "h3": {
        "color": "50f92c45-a630-455b-aec3-788680ec7410",
        "font-family": "Lato",
        "font-size": 5.5
       },
       "h4": {
        "color": "c5cc3653-2ee1-402a-aba2-7caae1da4f6c",
        "font-family": "Lato",
        "font-size": 5
       },
       "h5": {
        "font-family": "Lato"
       },
       "h6": {
        "font-family": "Lato"
       },
       "h7": {
        "font-family": "Lato"
       },
       "pre": {
        "font-family": "Anonymous Pro",
        "font-size": 4
       }
      },
      "text-base": {
       "font-family": "Merriweather",
       "font-size": 4
      }
     },
     "cb59102b-739b-46ff-bf8b-c9d58641059b": {
      "backgrounds": {
       "dc7afa04-bf90-40b1-82a5-726e3cff5267": {
        "background-color": "31af15d2-7e15-44c5-ab5e-e04b16a89eff",
        "id": "dc7afa04-bf90-40b1-82a5-726e3cff5267"
       }
      },
      "id": "cb59102b-739b-46ff-bf8b-c9d58641059b",
      "palette": {
       "19cc588f-0593-49c9-9f4b-e4d7cc113b1c": {
        "id": "19cc588f-0593-49c9-9f4b-e4d7cc113b1c",
        "rgb": [
         252,
         252,
         252
        ]
       },
       "31af15d2-7e15-44c5-ab5e-e04b16a89eff": {
        "id": "31af15d2-7e15-44c5-ab5e-e04b16a89eff",
        "rgb": [
         68,
         68,
         68
        ]
       },
       "50f92c45-a630-455b-aec3-788680ec7410": {
        "id": "50f92c45-a630-455b-aec3-788680ec7410",
        "rgb": [
         197,
         226,
         245
        ]
       },
       "c5cc3653-2ee1-402a-aba2-7caae1da4f6c": {
        "id": "c5cc3653-2ee1-402a-aba2-7caae1da4f6c",
        "rgb": [
         43,
         126,
         184
        ]
       },
       "efa7f048-9acb-414c-8b04-a26811511a21": {
        "id": "efa7f048-9acb-414c-8b04-a26811511a21",
        "rgb": [
         25.118061674008803,
         73.60176211453744,
         107.4819383259912
        ]
       }
      },
      "rules": {
       "a": {
        "color": "19cc588f-0593-49c9-9f4b-e4d7cc113b1c"
       },
       "blockquote": {
        "color": "50f92c45-a630-455b-aec3-788680ec7410",
        "font-size": 3
       },
       "code": {
        "font-family": "Anonymous Pro"
       },
       "h1": {
        "color": "19cc588f-0593-49c9-9f4b-e4d7cc113b1c",
        "font-family": "Merriweather",
        "font-size": 8
       },
       "h2": {
        "color": "19cc588f-0593-49c9-9f4b-e4d7cc113b1c",
        "font-family": "Merriweather",
        "font-size": 6
       },
       "h3": {
        "color": "50f92c45-a630-455b-aec3-788680ec7410",
        "font-family": "Lato",
        "font-size": 5.5
       },
       "h4": {
        "color": "c5cc3653-2ee1-402a-aba2-7caae1da4f6c",
        "font-family": "Lato",
        "font-size": 5
       },
       "h5": {
        "font-family": "Lato"
       },
       "h6": {
        "font-family": "Lato"
       },
       "h7": {
        "font-family": "Lato"
       },
       "li": {
        "color": "50f92c45-a630-455b-aec3-788680ec7410",
        "font-size": 3.25
       },
       "pre": {
        "font-family": "Anonymous Pro",
        "font-size": 4
       }
      },
      "text-base": {
       "color": "19cc588f-0593-49c9-9f4b-e4d7cc113b1c",
       "font-family": "Lato",
       "font-size": 4
      }
     }
    }
   }
  }
 },
 "nbformat": 4,
 "nbformat_minor": 1
}
